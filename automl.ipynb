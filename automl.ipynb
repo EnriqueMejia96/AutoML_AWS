{
 "cells": [
  {
   "cell_type": "markdown",
   "metadata": {},
   "source": [
    "# Step 0: Install dependencies"
   ]
  },
  {
   "cell_type": "code",
   "execution_count": null,
   "metadata": {},
   "outputs": [],
   "source": [
    "# !pip install sagemaker\n",
    "# !pip install boto3"
   ]
  },
  {
   "cell_type": "markdown",
   "metadata": {},
   "source": [
    "# Step 1: Define Role and SageMaker object"
   ]
  },
  {
   "cell_type": "code",
   "execution_count": 1,
   "metadata": {},
   "outputs": [
    {
     "name": "stdout",
     "output_type": "stream",
     "text": [
      "sagemaker.config INFO - Not applying SDK defaults from location: C:\\ProgramData\\sagemaker\\sagemaker\\config.yaml\n",
      "sagemaker.config INFO - Not applying SDK defaults from location: C:\\Users\\usuario\\AppData\\Local\\sagemaker\\sagemaker\\config.yaml\n"
     ]
    }
   ],
   "source": [
    "import sagemaker\n",
    "import boto3\n",
    "\n",
    "# Define region, bucket\n",
    "session = sagemaker.Session()\n",
    "region = boto3.Session().region_name\n",
    "bucket = session.default_bucket()\n",
    "\n",
    "# Select an IAM role\n",
    "role = 'arn:aws:iam::533267339745:role/Custom_Sage_Maker' \n",
    "   \n",
    "# Define sm object to be used to call Sagemaker services \n",
    "sm = boto3.Session().client(service_name='sagemaker',region_name=region)"
   ]
  },
  {
   "cell_type": "markdown",
   "metadata": {},
   "source": [
    "# Step 2: Setting up the SageMaker Autopilot Job"
   ]
  },
  {
   "cell_type": "code",
   "execution_count": 2,
   "metadata": {},
   "outputs": [],
   "source": [
    "# Define max number of candidates\n",
    "max_candidates = 2\n",
    "\n",
    "job_config = {'CompletionCriteria': {\n",
    "      'MaxRuntimePerTrainingJobInSeconds': 300,\n",
    "      'MaxCandidates': max_candidates,\n",
    "      'MaxAutoMLJobRuntimeInSeconds': 1800}}\n",
    "\n",
    "target_column = 'target'\n",
    "s3_data = 's3://dmc-esp/automl/train'\n",
    "\n",
    "input_data_config = [{\n",
    "      'DataSource': {\n",
    "        'S3DataSource': {\n",
    "          'S3DataType': 'S3Prefix',\n",
    "          'S3Uri': s3_data\n",
    "        }\n",
    "      },\n",
    "      'TargetAttributeName': target_column\n",
    "    }]\n",
    "\n",
    "s3_out = 's3://dmc-esp/automl/output'\n",
    "output_data_config = {'S3OutputPath': s3_out}\n",
    "\n",
    "# Define a Tag to be used as filter\n",
    "tags_config = [ { \n",
    "         \"Key\": \"dmc\",\n",
    "         \"Value\": \"demo\"\n",
    "          }]"
   ]
  },
  {
   "cell_type": "markdown",
   "metadata": {},
   "source": [
    "# Step 3: Launching the SageMaker Autopilot Job"
   ]
  },
  {
   "cell_type": "code",
   "execution_count": null,
   "metadata": {},
   "outputs": [],
   "source": [
    "auto_ml_job_name =  'custom-automl-sdk'\n",
    "\n",
    "sm.create_auto_ml_job(AutoMLJobName    =auto_ml_job_name,\n",
    "                      InputDataConfig  =input_data_config,\n",
    "                      OutputDataConfig =output_data_config,\n",
    "                      AutoMLJobConfig  =job_config,\n",
    "                      RoleArn          =role,\n",
    "                      Tags             =tags_config)"
   ]
  },
  {
   "cell_type": "code",
   "execution_count": null,
   "metadata": {},
   "outputs": [],
   "source": []
  }
 ],
 "metadata": {
  "kernelspec": {
   "display_name": "Python 3",
   "language": "python",
   "name": "python3"
  },
  "language_info": {
   "codemirror_mode": {
    "name": "ipython",
    "version": 3
   },
   "file_extension": ".py",
   "mimetype": "text/x-python",
   "name": "python",
   "nbconvert_exporter": "python",
   "pygments_lexer": "ipython3",
   "version": "3.10.11"
  }
 },
 "nbformat": 4,
 "nbformat_minor": 2
}
